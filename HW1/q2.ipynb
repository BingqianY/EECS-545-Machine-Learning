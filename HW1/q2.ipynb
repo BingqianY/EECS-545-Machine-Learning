{
 "cells": [
  {
   "cell_type": "code",
   "execution_count": 1,
   "metadata": {},
   "outputs": [],
   "source": [
    "import numpy as np\n",
    "import math\n",
    "import matplotlib.pyplot as plt\n",
    "import random"
   ]
  },
  {
   "cell_type": "code",
   "execution_count": 2,
   "metadata": {},
   "outputs": [
    {
     "name": "stdout",
     "output_type": "stream",
     "text": [
      "(20,)\n"
     ]
    }
   ],
   "source": [
    "#path = '/Users/Nidhi/Downloads/'\n",
    "X = np.load('q2xTrain.npy')  \n",
    "N = X.shape[0]    \n",
    "X_p = np.ones((20,1))\n",
    "X = X.reshape((20,1))\n",
    "#print(X.shape)\n",
    "Y = np.load('q2yTrain.npy')  \n",
    "print(Y.shape)\n",
    "X = np.concatenate((X_p, X), axis=1)\n",
    "w = np.zeros((X.shape[1],))\n",
    "h = np.dot(X,w)\n",
    "X_trans = X.transpose()\n",
    "z = h - Y\n",
    "gradient=np.dot(X_trans,z)\n",
    "#print(gradient.shape)\n",
    "\n",
    "hessian = np.dot(X_trans, X)\n",
    "#print(np.linalg.inv(hessian).dot(gradient))\n",
    "h_what = np.linalg.inv(hessian)"
   ]
  },
  {
   "cell_type": "code",
   "execution_count": 3,
   "metadata": {},
   "outputs": [],
   "source": [
    "def mse(W1, X, Y):\n",
    "    mse=((X.dot(W1)-Y)**2).mean()\n",
    "    return mse"
   ]
  },
  {
   "cell_type": "code",
   "execution_count": 4,
   "metadata": {},
   "outputs": [],
   "source": [
    "def BatchGradientDescent(X,y,w,n):\n",
    "    X_trans=X.transpose()\n",
    "    tol = np.Infinity\n",
    "    w = np.zeros((X.shape[1],))\n",
    "    i1=0\n",
    "    while mse(w, X, y) > 0.2:\n",
    "        h=np.dot(X,w)\n",
    "        z=h-y\n",
    "        gradient=np.dot(X_trans,z)\n",
    "        w_new=w-n*gradient\n",
    "        #h_new = np.dot(X,w)\n",
    "        #tol = np.linalg.norm(h_new - h)\n",
    "        tol = np.linalg.norm(w_new - w)\n",
    "        w = w_new\n",
    "        i1+=1\n",
    "    print('The number of iterations for Batch Gradient Descent is %i' %i1)\n",
    "    print(\"The weights for Batch Gradient Descent are\")\n",
    "    print(w)\n",
    "    return w"
   ]
  },
  {
   "cell_type": "code",
   "execution_count": 5,
   "metadata": {},
   "outputs": [
    {
     "name": "stdout",
     "output_type": "stream",
     "text": [
      "The number of iterations for Batch Gradient Descent is 281\n",
      "The weights for Batch Gradient Descent are\n",
      "[ 1.88034459 -2.68964226]\n"
     ]
    },
    {
     "data": {
      "text/plain": [
       "array([ 1.88034459, -2.68964226])"
      ]
     },
     "execution_count": 5,
     "metadata": {},
     "output_type": "execute_result"
    }
   ],
   "source": [
    "BatchGradientDescent(X,Y,w,n=0.01)"
   ]
  },
  {
   "cell_type": "code",
   "execution_count": 6,
   "metadata": {},
   "outputs": [],
   "source": [
    "def StochasticGradientDescent(X,y,w,n):\n",
    "    X_trans = X.transpose()\n",
    "    tol = np.Infinity\n",
    "    i2=0\n",
    "    w = np.zeros((X.shape[1],))\n",
    "    while mse(w, X, y) > 0.2:\n",
    "        for p in range(0,X.shape[0]):\n",
    "            q = np.random.randint(0,X.shape[0])\n",
    "            h = np.dot(X[q],w)\n",
    "            z = h-y[q]\n",
    "            gradient = np.dot(X_trans[:,q],z)\n",
    "            #print(gradient.shape, z)\n",
    "            w = w-n * gradient\n",
    "            h_new = np.dot(X[q],w)\n",
    "            tol = np.linalg.norm(h_new - h)\n",
    "        i2+=1\n",
    "    print('The number of iterations for Stochastic Gradient Descent is %i' %i2) \n",
    "    print(\"The weights for Stochastic Gradient Descent are\")\n",
    "    print(w)\n",
    "    return w"
   ]
  },
  {
   "cell_type": "code",
   "execution_count": 7,
   "metadata": {},
   "outputs": [
    {
     "name": "stdout",
     "output_type": "stream",
     "text": [
      "The number of iterations for Stochastic Gradient Descent is 311\n",
      "The weights for Stochastic Gradient Descent are\n",
      "[ 1.88673012 -2.69530864]\n"
     ]
    },
    {
     "data": {
      "text/plain": [
       "array([ 1.88673012, -2.69530864])"
      ]
     },
     "execution_count": 7,
     "metadata": {},
     "output_type": "execute_result"
    }
   ],
   "source": [
    "StochasticGradientDescent(X,Y,w,n= 0.01)"
   ]
  },
  {
   "cell_type": "code",
   "execution_count": 8,
   "metadata": {},
   "outputs": [],
   "source": [
    "def NewtonMethod(X,y,w):\n",
    "    X_trans = X.transpose()\n",
    "    hessian = np.dot(X_trans,X)\n",
    "    tol = np.Infinity\n",
    "    i3=0\n",
    "    while mse(w, X, y) > 0.2:\n",
    "        old_w = w\n",
    "        h=np.dot(X,w)\n",
    "        z=h-y\n",
    "        gradient=np.dot(X_trans,z)\n",
    "        w = old_w - np.linalg.pinv(hessian).dot(gradient)\n",
    "        h_new = np.dot(X,w)\n",
    "        tol = np.linalg.norm(h_new - h)\n",
    "        i3+=1\n",
    "    print('The number of iterations for Newtons Method is %i' %i3)\n",
    "    print(\"The weights for Newtons Method are\")\n",
    "    print(w)\n",
    "    return w"
   ]
  },
  {
   "cell_type": "code",
   "execution_count": 9,
   "metadata": {},
   "outputs": [
    {
     "name": "stdout",
     "output_type": "stream",
     "text": [
      "The number of iterations for Batch Gradient Descent is 281\n",
      "The weights for Batch Gradient Descent are\n",
      "[ 1.88034459 -2.68964226]\n",
      "The number of iterations for Stochastic Gradient Descent is 270\n",
      "The weights for Stochastic Gradient Descent are\n",
      "[ 1.90118757 -2.69986519]\n",
      "The number of iterations for Newtons Method is 1\n",
      "The weights for Newtons Method are\n",
      "[ 1.9468968  -2.82417908]\n"
     ]
    },
    {
     "data": {
      "text/plain": [
       "array([ 1.9468968 , -2.82417908])"
      ]
     },
     "execution_count": 9,
     "metadata": {},
     "output_type": "execute_result"
    }
   ],
   "source": [
    "#Question 2(a)\n",
    "BatchGradientDescent(X,Y,w,n=0.01)\n",
    "StochasticGradientDescent(X,Y,w,n= 0.01)\n",
    "NewtonMethod(X,Y,w)"
   ]
  },
  {
   "cell_type": "code",
   "execution_count": 10,
   "metadata": {},
   "outputs": [
    {
     "name": "stdout",
     "output_type": "stream",
     "text": [
      "The weights for the 0 degree polynomial is\n",
      "[0.62693881]\n",
      "The weights for the 1 degree polynomial is\n",
      "[ 1.9468968  -2.82417908]\n",
      "The weights for the 2 degree polynomial is\n",
      "[ 2.02881908 -3.31190607  0.5099073 ]\n",
      "The weights for the 3 degree polynomial is\n",
      "[  0.72143522  10.6925568  -34.25867044  23.73399256]\n",
      "The weights for the 4 degree polynomial is\n",
      "[  0.31700758  17.19240855 -61.74347052  65.73372287 -21.02990396]\n",
      "The weights for the 5 degree polynomial is\n",
      "[  0.68631137   9.14396164 -11.21978608 -63.12577688 121.42886106\n",
      " -56.75278845]\n",
      "The weights for the 6 degree polynomial is\n",
      "[   1.17337103   -3.85879113   99.39182601 -482.12388673  902.44548997\n",
      " -756.24366056  240.00499352]\n",
      "The weights for the 7 degree polynomial is\n",
      "[ 4.82561175e-01  1.88010755e+01 -1.55273420e+02  8.50251051e+02\n",
      " -2.73875214e+03  4.59786346e+03 -3.76771954e+03  1.19660229e+03]\n",
      "The weights for the 8 degree polynomial is\n",
      "[ 3.84923551e-01  2.26064519e+01 -2.08301610e+02  1.20568440e+03\n",
      " -4.03819931e+03  7.32669536e+03 -7.04882366e+03  3.29335454e+03\n",
      " -5.51455254e+02]\n",
      "The weights for the 9 degree polynomial is\n",
      "[ 6.35099301e+00 -2.30843512e+02  3.77339470e+03 -3.00383303e+04\n",
      "  1.35360464e+05 -3.68462356e+05  6.16055234e+05 -6.17628406e+05\n",
      "  3.40252385e+05 -7.91054979e+04]\n"
     ]
    },
    {
     "data": {
      "text/plain": [
       "Text(0, 0.5, 'Erms')"
      ]
     },
     "execution_count": 10,
     "metadata": {},
     "output_type": "execute_result"
    },
    {
     "data": {
      "image/png": "[encoded data removed]",
      "text/plain": [
       "<Figure size 432x288 with 1 Axes>"
      ]
     },
     "metadata": {
      "needs_background": "light"
     },
     "output_type": "display_data"
    }
   ],
   "source": [
    "#Q2(b)\n",
    "# path = '/Users/Nidhi/Downloads/'\n",
    "X = np.load('q2xTrain.npy')  \n",
    "Y = np.load('q2yTrain.npy')  \n",
    "X_test = np.load('q2xTest.npy')  \n",
    "Y_test = np.load('q2yTest.npy')\n",
    "E_rms = np.zeros(10)\n",
    "E_rms_test = np.zeros(10)\n",
    "j = 0\n",
    "for M in range(1,11):\n",
    "    X_new = np.flip(np.vander(X,M), axis = 1)\n",
    "    X_new_test = np.flip(np.vander(X_test,M), axis = 1)\n",
    "    w = np.zeros((X_new.shape[1]))\n",
    "    X_trans = X_new.transpose()\n",
    "    hessian = np.dot(X_trans,X_new)\n",
    "    tol = np.Infinity\n",
    "    while tol > 1e-5:\n",
    "        old_w = w.copy()\n",
    "        h=np.dot(X_new,w)\n",
    "        z=h-Y\n",
    "        gradient=np.dot(X_trans,z)\n",
    "        w = old_w - np.linalg.pinv(hessian).dot(gradient)\n",
    "        #w = old_w - np.linalg.inv(X_new.T.dot(X_new)).dot((X_new.T).dot(X_new.dot(w)-Y))\n",
    "        h_new = np.dot(X_new,w)\n",
    "        tol = np.linalg.norm(h_new - h)\n",
    "    #print(w.shape, X_new)\n",
    "    h_new_test = np.dot(X_new_test,w)\n",
    "    E_w_test = np.linalg.norm(h_new_test - Y_test)\n",
    "    E_w = np.linalg.norm(h_new - Y)\n",
    "    E_rms[M-1] = E_w/np.sqrt(X_new.shape[0])\n",
    "    E_rms_test[M-1] = E_w_test/np.sqrt(X_new_test.shape[0])\n",
    "    #print(E_rms_test)\n",
    "    print('The weights for the %i degree polynomial is' %j)\n",
    "    print(w)\n",
    "    j += 1\n",
    "#print(X_new.shape)\n",
    "#print(E_rms)\n",
    "#print(E_rms_test)\n",
    "plt.title('Overfitting')\n",
    "plt.plot(range(10), E_rms, 'ob-', label = 'Training Set')\n",
    "plt.plot(range(10), E_rms_test, 'or-', label = 'Test Set')\n",
    "plt.legend()\n",
    "plt.xlabel('Degree of Polynomial (M)')\n",
    "plt.ylabel('Erms')\n"
   ]
  },
  {
   "cell_type": "code",
   "execution_count": 11,
   "metadata": {},
   "outputs": [],
   "source": [
    "#path = '/Users/Nidhi/Downloads/'\n",
    "Xreg = np.load('q2xTrain.npy')  \n",
    "Yreg = np.load('q2yTrain.npy')  \n",
    "Xtest = np.load('q2xTest.npy')  \n",
    "Ytest = np.load('q2yTest.npy')"
   ]
  },
  {
   "cell_type": "code",
   "execution_count": 12,
   "metadata": {},
   "outputs": [
    {
     "name": "stdout",
     "output_type": "stream",
     "text": [
      "The weights for a 9th degree polynomial with regularization parameter 0.000000\n",
      "[ 6.35099301e+00 -2.30843512e+02  3.77339470e+03 -3.00383303e+04\n",
      "  1.35360464e+05 -3.68462356e+05  6.16055234e+05 -6.17628406e+05\n",
      "  3.40252385e+05 -7.91054979e+04]\n",
      "The weights for a 9th degree polynomial with regularization parameter 0.000001\n",
      "[  0.67778364   9.26697861 -13.10679556 -43.55076818  44.4067339\n",
      "  50.20791682  -7.66810429 -52.1792701  -36.03023406  48.87151966]\n",
      "The weights for a 9th degree polynomial with regularization parameter 0.000010\n",
      "[  0.59106034  11.58939844 -30.01201196  -0.61146409  20.93512034\n",
      "  13.97639282  -3.13002479 -13.13277559  -8.93475101   8.99366139]\n",
      "The weights for a 9th degree polynomial with regularization parameter 0.000100\n",
      "[  0.76397647   9.18088699 -22.62646106  -2.26667382  10.25041855\n",
      "  10.18741054   4.7031529   -0.87709574  -4.28496401  -5.14799425]\n",
      "The weights for a 9th degree polynomial with regularization parameter 0.001000\n",
      "[  1.14781374   4.96043921 -13.02789327  -3.51704705   4.38087189\n",
      "   6.45474174   4.81393522   1.64522555  -1.74954177  -4.75946016]\n",
      "The weights for a 9th degree polynomial with regularization parameter 0.010000\n",
      "[ 1.61509788  0.24850035 -4.18021188 -1.97672047  0.25860156  1.31974107\n",
      "  1.50045914  1.21698491  0.75022723  0.25443342]\n",
      "The weights for a 9th degree polynomial with regularization parameter 0.100000\n",
      "[ 1.71910715 -1.26573909 -1.73323498 -1.00186049 -0.27404594  0.22745282\n",
      "  0.53336578  0.70658846  0.79631279  0.83493196]\n",
      "The weights for a 9th degree polynomial with regularization parameter 1.000000\n",
      "[ 1.22947449 -0.72301958 -0.74894872 -0.49070049 -0.25533698 -0.0835526\n",
      "  0.03434322  0.11330398  0.16522674  0.1984788 ]\n"
     ]
    },
    {
     "name": "stderr",
     "output_type": "stream",
     "text": [
      "C:\\Users\\Nidhi\\Anaconda3\\lib\\site-packages\\ipykernel_launcher.py:34: RuntimeWarning: divide by zero encountered in log\n",
      "C:\\Users\\Nidhi\\Anaconda3\\lib\\site-packages\\ipykernel_launcher.py:35: RuntimeWarning: divide by zero encountered in log\n"
     ]
    },
    {
     "data": {
      "text/plain": [
       "Text(0.5, 0, 'ln(lambda)')"
      ]
     },
     "execution_count": 12,
     "metadata": {},
     "output_type": "execute_result"
    },
    {
     "data": {
      "image/png": "[encoded data removed]",
      "text/plain": [
       "<Figure size 432x288 with 1 Axes>"
      ]
     },
     "metadata": {
      "needs_background": "light"
     },
     "output_type": "display_data"
    }
   ],
   "source": [
    "#Q2(c)\n",
    "l = [0, 1e-6, 1e-5, 1e-4, 1e-3, 1e-2, 1e-1, 1]\n",
    "j =0\n",
    "E_rms=np.zeros((8), dtype=np.float64)\n",
    "E_rms_test=np.zeros((8), dtype=np.float64)\n",
    "for i in l:\n",
    "    Xnew = np.flip(np.vander(Xreg,10), axis = 1)\n",
    "    Xnewtest = np.flip(np.vander(Xtest,10), axis = 1)\n",
    "    w = np.zeros((Xnew.shape[1]))\n",
    "    Xtrans = Xnew.transpose()\n",
    "    hessian = np.dot(Xtrans,Xnew) + i*np.eye(w.shape[0])\n",
    "    tol = np.Infinity\n",
    "    while tol > 1e-5:\n",
    "        old_w = w.copy()\n",
    "        h=np.dot(Xnew,w)\n",
    "        z=h-Yreg\n",
    "        gradient=np.dot(Xtrans,z) + i*old_w\n",
    "        w = old_w - np.linalg.pinv(hessian).dot(gradient)\n",
    "        #w = old_w - np.linalg.inv(X_new.T.dot(X_new)).dot((X_new.T).dot(X_new.dot(w)-Y))\n",
    "        h_new = np.dot(Xnew,w)\n",
    "        tol = np.linalg.norm(h_new - h)\n",
    "        h_new_test = np.dot(Xnewtest,w)\n",
    "    E_w_test = np.linalg.norm(h_new_test - Ytest)\n",
    "    E_w = np.linalg.norm(h_new - Yreg)\n",
    "    #print(E_w/np.sqrt(Xnew.shape[0]))\n",
    "    #print(l.index(i))\n",
    "    #print(l.index(i))\n",
    "    E_rms[j] = E_w/np.sqrt(Xnew.shape[0])\n",
    "    E_rms_test[j] = E_w_test/np.sqrt(Xnewtest.shape[0])\n",
    "    j+=1\n",
    "    print('The weights for a 9th degree polynomial with regularization parameter %f' %i)\n",
    "    print(w)\n",
    "#print(j)\n",
    "#print(E_rms)\n",
    "plt.plot(np.log(l), E_rms, 'b-', label = 'Training Set')\n",
    "plt.plot(np.log(l), E_rms_test, 'r-', label = 'Test Set')\n",
    "plt.title('Effect of Regularization')\n",
    "plt.legend()\n",
    "plt.ylabel('Erms')\n",
    "plt.xlabel ('ln(lambda)')"
   ]
  },
  {
   "cell_type": "code",
   "execution_count": null,
   "metadata": {},
   "outputs": [],
   "source": []
  }
 ],
 "metadata": {
  "kernelspec": {
   "display_name": "Python 3",
   "language": "python",
   "name": "python3"
  },
  "language_info": {
   "codemirror_mode": {
    "name": "ipython",
    "version": 3
   },
   "file_extension": ".py",
   "mimetype": "text/x-python",
   "name": "python",
   "nbconvert_exporter": "python",
   "pygments_lexer": "ipython3",
   "version": "3.7.3"
  }
 },
 "nbformat": 4,
 "nbformat_minor": 2
}
