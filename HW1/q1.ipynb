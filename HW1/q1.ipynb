{
 "cells": [
  {
   "cell_type": "code",
   "execution_count": 1,
   "metadata": {},
   "outputs": [],
   "source": [
    "import numpy as np\n",
    "import math\n",
    "import matplotlib.pyplot as plt"
   ]
  },
  {
   "cell_type": "code",
   "execution_count": 2,
   "metadata": {},
   "outputs": [
    {
     "name": "stdout",
     "output_type": "stream",
     "text": [
      "The weights obtained from Newtons method of optimization are\n",
      "[-1.84922892 -0.62814188  0.85846843]\n"
     ]
    },
    {
     "data": {
      "image/png": "[encoded data removed]",
      "text/plain": [
       "<Figure size 432x288 with 1 Axes>"
      ]
     },
     "metadata": {
      "needs_background": "light"
     },
     "output_type": "display_data"
    }
   ],
   "source": [
    "def main():\n",
    "  # We format the data matrix so that each row is the feature for one sample.    \n",
    "  # The number of rows is the number of data samples.    \n",
    "  # The number of columns is the dimension of one data sample.  \n",
    "  #path = '/Users/Nidhi/Downloads/'\n",
    "  X = np.load('q1x.npy')  \n",
    "  N = X.shape[0]    \n",
    "  Y = np.load('q1y.npy')    \n",
    "  # To consider intercept term, we append a column vector with all entries=1.    \n",
    "  # Then the coefficient correpsonding to this column is an intercept term. \n",
    "  X = np.concatenate((np.ones((N, 1)), X), axis=1)\n",
    "  Z = np.diag(Y).dot(X)\n",
    "  Z_ = np.diag(1-Y).dot(X)\n",
    "  w = np.zeros((X.shape[1],))\n",
    "  #define the gradient function\n",
    "  def grad_lw(w, X, Z, Z_):\n",
    "    sig = 1 / (1 + np.exp(-X.dot(w)))\n",
    "    grad = (1-sig).dot(Z) - (sig).dot(Z_)\n",
    "    return grad\n",
    "  w = np.zeros((X.shape[1],))\n",
    "\n",
    "#Newton's Method\n",
    "  E_w = np.Infinity\n",
    "  i = 0\n",
    "  while E_w > 1e-5:\n",
    "    old_w = w\n",
    "    sig = 1 / (1 + np.exp(-X.dot(w)))\n",
    "    hessian = np.zeros((X.shape[1], X.shape[1]))\n",
    "    h = np.dot(X, old_w)\n",
    "    for i in range(hessian.shape[0]):\n",
    "        for j in range(hessian.shape[0]):\n",
    "            for n in range(N):\n",
    "                hessian[j][i] += sig[n] * (sig[n]-1) * X[n,i] * X[n,j]\n",
    "    w = old_w - np.linalg.pinv(hessian).dot(grad_lw(w,X,Z,Z_))\n",
    "    h_new = np.dot(X,w)\n",
    "    E_w = np.linalg.norm(h_new - h)\n",
    "    i = i+1\n",
    "  print(\"The weights obtained from Newtons method of optimization are\")\n",
    "  print(w)\n",
    "  #Scatter Plot\n",
    "  idx_1 = np.where(Y == 1)\n",
    "  idx_0 = np.where(Y == 0)\n",
    "  x1 = X[:,1]\n",
    "  x2 = X[:,2]\n",
    "  plt.plot(X, (-w[0] - w[1]*X)/w[2], color = 'y')\n",
    "  plt.scatter(x1[idx_1], x2[idx_1], color = 'b', marker = \"+\")\n",
    "  plt.scatter(x1[idx_0], x2[idx_0], color = 'r')\n",
    "  plt.title('Logistic Regression by Newtons Method')\n",
    "  plt.xlabel('label 0')\n",
    "  plt.ylabel('label 1')\n",
    "  plt.show()\n",
    "\n",
    "if __name__ == \"__main__\":\n",
    "  main()"
   ]
  },
  {
   "cell_type": "code",
   "execution_count": null,
   "metadata": {},
   "outputs": [],
   "source": []
  }
 ],
 "metadata": {
  "kernelspec": {
   "display_name": "Python 3",
   "language": "python",
   "name": "python3"
  },
  "language_info": {
   "codemirror_mode": {
    "name": "ipython",
    "version": 3
   },
   "file_extension": ".py",
   "mimetype": "text/x-python",
   "name": "python",
   "nbconvert_exporter": "python",
   "pygments_lexer": "ipython3",
   "version": "3.7.3"
  }
 },
 "nbformat": 4,
 "nbformat_minor": 2
}
