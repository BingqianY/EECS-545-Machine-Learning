{
 "cells": [
  {
   "cell_type": "code",
   "execution_count": 1,
   "metadata": {},
   "outputs": [],
   "source": [
    "import numpy as np\n",
    "import matplotlib.pyplot as plt\n",
    "\n",
    "def readMatrix(file):\n",
    "    # Use the code below to read files\n",
    "    fd = open(file, 'r')\n",
    "    hdr = fd.readline()\n",
    "    rows, cols = [int(s) for s in fd.readline().strip().split()]\n",
    "    tokens = fd.readline().strip().split()\n",
    "    matrix = np.zeros((rows, cols))\n",
    "    Y = []\n",
    "    for i, line in enumerate(fd):\n",
    "        nums = [int(x) for x in line.strip().split()]\n",
    "        Y.append(nums[0])\n",
    "        kv = np.array(nums[1:])\n",
    "        k = np.cumsum(kv[:-1:2])\n",
    "        v = kv[1::2]\n",
    "        matrix[i, k] = v\n",
    "    return matrix, tokens, np.array(Y)\n",
    "\n",
    "def nb_train(matrix, category):\n",
    "    # Implement your algorithm and return \n",
    "    state = {}\n",
    "    N = matrix.shape[1]\n",
    "    matrix_spam = matrix[category==1] \n",
    "    matrix_nspam = matrix[category==0]\n",
    "    #print(matrix_spam)\n",
    "    state['mu_s'] = (np.sum(matrix_spam, axis=0) + 1) / (np.sum(matrix_spam) + N)\n",
    "    state['mu_ns'] = (np.sum(matrix_nspam, axis=0) + 1) / (np.sum(matrix_nspam) + N)\n",
    "    #state['phi'] = np.sum(category==1) / matrix.shape[0]\n",
    "    state['phi'] = matrix_spam.shape[0] / matrix.shape[0]\n",
    "    ''''mat1 = matrix[category == 1, :]\n",
    "    mat0 = matrix[category == 0, :]\n",
    "\n",
    "    # documentation length, i.e. number of tokens in each document\n",
    "    #mat1_doc_lens = mat1.sum(axis=1)\n",
    "    # yeq1 means \"given y equals 1\"\n",
    "    state['mu_s'] = (mat1.sum(axis=0) + 1) / (np.sum(mat1) + N)\n",
    "\n",
    "    #mat0_doc_lens = mat0.sum(axis=1)\n",
    "    state['mu_ns'] = (mat0.sum(axis=0) + 1) / (np.sum(mat0) + N)\n",
    "\n",
    "    state['phi'] = mat1.shape[0] / (mat1.shape[0] + mat0.shape[0])'''\n",
    "    \n",
    "    ############################\n",
    "    # Implement your code here #\n",
    "    ############################\n",
    "    \n",
    "    return state\n",
    "\n",
    "def nb_test(matrix, state):\n",
    "    # Classify each email in the test set (each row of the document matrix) as 1 for SPAM and 0 for NON-SPAM\n",
    "    output = np.zeros(matrix.shape[0])\n",
    "    \n",
    "    ############################\n",
    "    # Implement your code here #\n",
    "    mu_s = state['mu_s']\n",
    "    mu_ns =  state['mu_ns']\n",
    "    phi = state['phi']\n",
    "    \n",
    "    #classification using baye's rule\n",
    "\n",
    "    log_spam = np.log(mu_s) * matrix \n",
    "    log_nspam = np.log(mu_ns) * matrix\n",
    "    log_mu_s = np.sum(log_spam, axis=1) \n",
    "    log_mu_ns = np.sum(log_nspam, axis=1)\n",
    "    term = log_mu_ns + np.log(1-phi) - log_mu_s - np.log(phi)\n",
    "    probs = 1./(1 + np.exp(term))\n",
    "    probns = 1 - probs\n",
    "    #implementing MAP\n",
    "    output[probs > probns] = 1\n",
    "        \n",
    "    ############################\n",
    "    \n",
    "    return output\n",
    "\n",
    "def evaluate(output, label):\n",
    "    # Use the code below to obtain the accuracy of your algorithm\n",
    "    error = (output != label).sum() * 1. / len(output)\n",
    "    print('Error: {:2.4f}%'.format(100*error))\n",
    "    return error\n"
   ]
  },
  {
   "cell_type": "code",
   "execution_count": 2,
   "metadata": {},
   "outputs": [
    {
     "name": "stdout",
     "output_type": "stream",
     "text": [
      "Error: 1.6250%\n"
     ]
    },
    {
     "data": {
      "text/plain": [
       "0.01625"
      ]
     },
     "execution_count": 2,
     "metadata": {},
     "output_type": "execute_result"
    }
   ],
   "source": [
    "# Note1: tokenlists (list of all tokens) from MATRIX.TRAIN and MATRIX.TEST are identical\n",
    "# Note2: Spam emails are denoted as class 1, and non-spam ones as class 0.\n",
    "# Note3: The shape of the data matrix (document matrix): (number of emails) by (number of tokens)\n",
    "\n",
    "# Load files\n",
    "dataMatrix_train, tokenlist, category_train = readMatrix('q4_data/MATRIX.TRAIN')\n",
    "dataMatrix_test, tokenlist, category_test = readMatrix('q4_data/MATRIX.TEST')\n",
    "\n",
    "# Train\n",
    "state = nb_train(dataMatrix_train, category_train)\n",
    "\n",
    "# Test and evluate\n",
    "prediction = nb_test(dataMatrix_test, state)\n",
    "evaluate(prediction, category_test)"
   ]
  },
  {
   "cell_type": "code",
   "execution_count": 3,
   "metadata": {},
   "outputs": [
    {
     "name": "stdout",
     "output_type": "stream",
     "text": [
      "The 5 tokens most indicative of the SPAM class are:\n",
      "['httpaddr' 'spam' 'unsubscrib' 'ebai' 'valet']\n"
     ]
    }
   ],
   "source": [
    "#Q4(b)\n",
    "tokens = np.array(tokenlist)\n",
    "token_indication_rev = np.argsort(np.log(state['mu_s'] / state['mu_ns']))\n",
    "print('The 5 tokens most indicative of the SPAM class are:')\n",
    "print(tokens[token_indication_rev[::-1][:5]])"
   ]
  },
  {
   "cell_type": "code",
   "execution_count": 4,
   "metadata": {},
   "outputs": [
    {
     "name": "stdout",
     "output_type": "stream",
     "text": [
      "Error: 3.8750%\n",
      "Error: 2.6250%\n",
      "Error: 2.6250%\n",
      "Error: 1.8750%\n",
      "Error: 1.7500%\n",
      "Error: 1.6250%\n",
      "For Training Set of Size 50,\n",
      "the Error is 3.875%\n",
      "For Training Set of Size 100,\n",
      "the Error is 2.625%\n",
      "For Training Set of Size 200,\n",
      "the Error is 2.625%\n",
      "For Training Set of Size 400,\n",
      "the Error is 1.875%\n",
      "For Training Set of Size 800,\n",
      "the Error is 1.75%\n",
      "For Training Set of Size 1400,\n",
      "the Error is 1.625%\n"
     ]
    }
   ],
   "source": [
    "#Q4(c)\n",
    "\n",
    "size = []\n",
    "error = []\n",
    "#For Training Size 50\n",
    "dataMatrix_train, tokenlist, category_train = readMatrix('q4_data/MATRIX.TRAIN.50')\n",
    "dataMatrix_test, tokenlist, category_test = readMatrix('q4_data/MATRIX.TEST')\n",
    "\n",
    "# Train\n",
    "state = nb_train(dataMatrix_train, category_train)\n",
    "size.append(dataMatrix_train.shape[0])\n",
    "\n",
    "# Test and evluate\n",
    "prediction = nb_test(dataMatrix_test, state)\n",
    "error.append(evaluate(prediction, category_test))\n",
    "\n",
    "#For Training Size 100\n",
    "dataMatrix_train, tokenlist, category_train = readMatrix('q4_data/MATRIX.TRAIN.100')\n",
    "dataMatrix_test, tokenlist, category_test = readMatrix('q4_data/MATRIX.TEST')\n",
    "\n",
    "# Train\n",
    "state = nb_train(dataMatrix_train, category_train)\n",
    "size.append(dataMatrix_train.shape[0])\n",
    "\n",
    "# Test and evluate\n",
    "prediction = nb_test(dataMatrix_test, state)\n",
    "error.append(evaluate(prediction, category_test))\n",
    "\n",
    "#For Training Size 200\n",
    "dataMatrix_train, tokenlist, category_train = readMatrix('q4_data/MATRIX.TRAIN.200')\n",
    "dataMatrix_test, tokenlist, category_test = readMatrix('q4_data/MATRIX.TEST')\n",
    "\n",
    "# Train\n",
    "state = nb_train(dataMatrix_train, category_train)\n",
    "size.append(dataMatrix_train.shape[0])\n",
    "\n",
    "# Test and evluate\n",
    "prediction = nb_test(dataMatrix_test, state)\n",
    "error.append(evaluate(prediction, category_test))\n",
    "\n",
    "#For Training Size 400\n",
    "dataMatrix_train, tokenlist, category_train = readMatrix('q4_data/MATRIX.TRAIN.400')\n",
    "dataMatrix_test, tokenlist, category_test = readMatrix('q4_data/MATRIX.TEST')\n",
    "\n",
    "# Train\n",
    "state = nb_train(dataMatrix_train, category_train)\n",
    "size.append(dataMatrix_train.shape[0])\n",
    "\n",
    "# Test and evluate\n",
    "prediction = nb_test(dataMatrix_test, state)\n",
    "error.append(evaluate(prediction, category_test))\n",
    "\n",
    "#For Training Size 800\n",
    "dataMatrix_train, tokenlist, category_train = readMatrix('q4_data/MATRIX.TRAIN.800')\n",
    "dataMatrix_test, tokenlist, category_test = readMatrix('q4_data/MATRIX.TEST')\n",
    "\n",
    "# Train\n",
    "state = nb_train(dataMatrix_train, category_train)\n",
    "size.append(dataMatrix_train.shape[0])\n",
    "\n",
    "# Test and evluate\n",
    "prediction = nb_test(dataMatrix_test, state)\n",
    "error.append(evaluate(prediction, category_test))\n",
    "\n",
    "#For Training Size 1400\n",
    "dataMatrix_train, tokenlist, category_train = readMatrix('q4_data/MATRIX.TRAIN.1400')\n",
    "dataMatrix_test, tokenlist, category_test = readMatrix('q4_data/MATRIX.TEST')\n",
    "\n",
    "# Train\n",
    "state = nb_train(dataMatrix_train, category_train)\n",
    "size.append(dataMatrix_train.shape[0])\n",
    "\n",
    "# Test and evluate\n",
    "prediction = nb_test(dataMatrix_test, state)\n",
    "error.append(evaluate(prediction, category_test))\n",
    "for i in range(6):\n",
    "    print('For Training Set of Size %i,' %size[i])\n",
    "    print('the Error is %g%%' %(error[i]*100))"
   ]
  },
  {
   "cell_type": "code",
   "execution_count": 5,
   "metadata": {},
   "outputs": [
    {
     "data": {
      "text/plain": [
       "Text(0, 0.5, 'Test Error')"
      ]
     },
     "execution_count": 5,
     "metadata": {},
     "output_type": "execute_result"
    },
    {
     "data": {
      "image/png": "[encoded data removed]",
      "text/plain": [
       "<Figure size 432x288 with 1 Axes>"
      ]
     },
     "metadata": {
      "needs_background": "light"
     },
     "output_type": "display_data"
    }
   ],
   "source": [
    "plt.plot(size, error, '-o')\n",
    "plt.title('Training Set Size vs Error')\n",
    "plt.xlabel('Size of Training Set')\n",
    "plt.ylabel('Test Error')"
   ]
  },
  {
   "cell_type": "code",
   "execution_count": null,
   "metadata": {},
   "outputs": [],
   "source": []
  }
 ],
 "metadata": {
  "kernelspec": {
   "display_name": "Python 3",
   "language": "python",
   "name": "python3"
  },
  "language_info": {
   "codemirror_mode": {
    "name": "ipython",
    "version": 3
   },
   "file_extension": ".py",
   "mimetype": "text/x-python",
   "name": "python",
   "nbconvert_exporter": "python",
   "pygments_lexer": "ipython3",
   "version": "3.7.3"
  }
 },
 "nbformat": 4,
 "nbformat_minor": 2
}
